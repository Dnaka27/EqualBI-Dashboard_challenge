{
 "cells": [
  {
   "cell_type": "markdown",
   "metadata": {},
   "source": [
    "#### Import bibliotecas e funcionalidades\n"
   ]
  },
  {
   "cell_type": "code",
   "execution_count": 1,
   "metadata": {},
   "outputs": [],
   "source": [
    "import os\n",
    "import pandas as pd"
   ]
  },
  {
   "cell_type": "markdown",
   "metadata": {},
   "source": [
    "#### Identificar colunas\n"
   ]
  },
  {
   "cell_type": "code",
   "execution_count": null,
   "metadata": {},
   "outputs": [],
   "source": [
    "current_dir = os.getcwd()\n",
    "parent_dir = os.path.abspath(os.path.join(current_dir, os.pardir))\n",
    "\n",
    "path = f\"{parent_dir}\\\\excel_data\"\n",
    "\n",
    "cols_by_archive = {}\n",
    "for archive in os.listdir(path):\n",
    "    if archive[:5] == \"clean\":\n",
    "        df = pd.read_excel(f\"{path}\\\\{archive}\")\n",
    "        cols_by_archive[archive] = df.columns.to_list()\n",
    "        \n",
    "print(cols_by_archive)"
   ]
  },
  {
   "cell_type": "markdown",
   "metadata": {},
   "source": [
    "#### Carregar planilhas"
   ]
  },
  {
   "cell_type": "code",
   "execution_count": 4,
   "metadata": {},
   "outputs": [],
   "source": [
    "data_dir = path\n",
    "df_fato_vendas = pd.read_excel(f\"{data_dir}\\\\clean_fato_vendas.xlsx\")\n",
    "df_dim_vendedor = pd.read_excel(f\"{data_dir}\\\\clean_dim_vendedor.xlsx\")\n",
    "df_dim_produtos = pd.read_excel(f\"{data_dir}\\\\clean_dim_produtos.xlsx\")\n",
    "df_dim_familia_produtos = pd.read_excel(f\"{data_dir}\\\\clean_dim_familia_produtos.xlsx\")"
   ]
  },
  {
   "cell_type": "markdown",
   "metadata": {},
   "source": [
    "#### Agrupar e mesclar planilhas por colunas iguais\n"
   ]
  },
  {
   "cell_type": "code",
   "execution_count": null,
   "metadata": {},
   "outputs": [],
   "source": [
    "df_sales = pd.merge(df_dim_vendedor, df_fato_vendas[['data_venda', 'codigo_produto', 'filial_venda', 'quantidade', 'valor_monetario_total', 'codigo_vendedor']], on=\"codigo_vendedor\", how=\"inner\")\n",
    "display(df_sales.head())"
   ]
  },
  {
   "cell_type": "markdown",
   "metadata": {},
   "source": [
    "#### Separar \"datetime\" por ano e mes\n"
   ]
  },
  {
   "cell_type": "code",
   "execution_count": null,
   "metadata": {},
   "outputs": [],
   "source": [
    "df_sales[\"data_venda\"] = pd.to_datetime(df_sales[\"data_venda\"])\n",
    "df_sales[\"mes\"] = df_sales[\"data_venda\"].dt.month\n",
    "df_sales[\"ano\"] = df_sales[\"data_venda\"].dt.year\n",
    "display(df_sales)"
   ]
  },
  {
   "cell_type": "markdown",
   "metadata": {},
   "source": [
    "#### Salvar nova planilha com dados tratados"
   ]
  },
  {
   "cell_type": "code",
   "execution_count": 5,
   "metadata": {},
   "outputs": [],
   "source": [
    "df_sales.to_excel(f\"{data_dir}\\\\df_saleBranch.xlsx\", index=False)"
   ]
  }
 ],
 "metadata": {
  "kernelspec": {
   "display_name": "Python 3",
   "language": "python",
   "name": "python3"
  },
  "language_info": {
   "codemirror_mode": {
    "name": "ipython",
    "version": 3
   },
   "file_extension": ".py",
   "mimetype": "text/x-python",
   "name": "python",
   "nbconvert_exporter": "python",
   "pygments_lexer": "ipython3",
   "version": "3.12.0"
  }
 },
 "nbformat": 4,
 "nbformat_minor": 2
}
