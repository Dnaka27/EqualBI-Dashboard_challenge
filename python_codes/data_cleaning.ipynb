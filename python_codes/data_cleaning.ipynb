{
 "cells": [
  {
   "cell_type": "markdown",
   "metadata": {},
   "source": [
    "#### Importar bibliotecas e funcionalidades"
   ]
  },
  {
   "cell_type": "code",
   "execution_count": 14,
   "metadata": {},
   "outputs": [],
   "source": [
    "import pandas as pd\n",
    "import os\n",
    "from ydata_profiling import ProfileReport"
   ]
  },
  {
   "cell_type": "markdown",
   "metadata": {},
   "source": [
    "#### Visualisando dados das planilhas com Ydata"
   ]
  },
  {
   "cell_type": "code",
   "execution_count": null,
   "metadata": {},
   "outputs": [],
   "source": [
    "# Obter o diretório atual e o diretório pai\n",
    "current_dir = os.getcwd()\n",
    "parent_dir = os.path.abspath(os.path.join(current_dir, os.pardir))\n",
    "\n",
    "# Caminho para o diretório com os arquivos Excel\n",
    "path = os.path.join(parent_dir, \"data_excel\")\n",
    "\n",
    "print(\"Gerando perfis de dados interativos com ydata-profiling\\n\")\n",
    "\n",
    "# Iterar sobre os arquivos no diretório especificado\n",
    "for archive in os.listdir(path):\n",
    "    if archive.startswith((\"dim\", \"fat\")):  # Verifica se o arquivo começa com 'dim' ou 'fat'\n",
    "        full_path = os.path.join(path, archive)\n",
    "        df = pd.read_excel(full_path)\n",
    "        \n",
    "        # Gerar o relatório de perfilamento do ydata-profiling\n",
    "        print(f\"--- Gerando relatório para a planilha: {archive} ---\")\n",
    "        profile = ProfileReport(df, title=f\"Perfil de Dados para {archive}\", explorative=True)\n",
    "        \n",
    "        # Exibir o relatório interativamente no Jupyter Notebook\n",
    "        profile.to_notebook_iframe()\n",
    "        print(\"-\" * 50, \"\\n\")\n"
   ]
  },
  {
   "cell_type": "markdown",
   "metadata": {},
   "source": [
    "#### Organizando e limpando dados"
   ]
  },
  {
   "cell_type": "code",
   "execution_count": 17,
   "metadata": {},
   "outputs": [
    {
     "name": "stdout",
     "output_type": "stream",
     "text": [
      "Limpando dados\n",
      "Arquivo limpo salvo em: ../data_cleaned\\clean_dim_familia_produtos.csv\n"
     ]
    },
    {
     "name": "stderr",
     "output_type": "stream",
     "text": [
      "C:\\Users\\diogo\\AppData\\Local\\Temp\\ipykernel_17088\\2631873325.py:18: FutureWarning: DataFrame.applymap has been deprecated. Use DataFrame.map instead.\n",
      "  df_cleaned = df.drop_duplicates().fillna(0).applymap(lambda x: x.strip() if isinstance(x, str) else x)\n",
      "C:\\Users\\diogo\\AppData\\Local\\Temp\\ipykernel_17088\\2631873325.py:18: FutureWarning: DataFrame.applymap has been deprecated. Use DataFrame.map instead.\n",
      "  df_cleaned = df.drop_duplicates().fillna(0).applymap(lambda x: x.strip() if isinstance(x, str) else x)\n",
      "C:\\Users\\diogo\\AppData\\Local\\Temp\\ipykernel_17088\\2631873325.py:18: FutureWarning: DataFrame.applymap has been deprecated. Use DataFrame.map instead.\n",
      "  df_cleaned = df.drop_duplicates().fillna(0).applymap(lambda x: x.strip() if isinstance(x, str) else x)\n"
     ]
    },
    {
     "name": "stdout",
     "output_type": "stream",
     "text": [
      "Arquivo limpo salvo em: ../data_cleaned\\clean_dim_produtos.csv\n",
      "Arquivo limpo salvo em: ../data_cleaned\\clean_dim_vendedor.csv\n"
     ]
    },
    {
     "name": "stderr",
     "output_type": "stream",
     "text": [
      "C:\\Users\\diogo\\AppData\\Local\\Temp\\ipykernel_17088\\2631873325.py:18: FutureWarning: DataFrame.applymap has been deprecated. Use DataFrame.map instead.\n",
      "  df_cleaned = df.drop_duplicates().fillna(0).applymap(lambda x: x.strip() if isinstance(x, str) else x)\n"
     ]
    },
    {
     "name": "stdout",
     "output_type": "stream",
     "text": [
      "Arquivo limpo salvo em: ../data_cleaned\\clean_fato_vendas.csv\n"
     ]
    }
   ],
   "source": [
    "# Criar o diretório para arquivos limpos se não existir\n",
    "os.makedirs('../data_cleaned', exist_ok=True)\n",
    "\n",
    "# Diretório onde os arquivos Excel estão localizados\n",
    "path = os.path.join(parent_dir, \"data_excel\")\n",
    "\n",
    "# Diretório para salvar os arquivos CSV limpos\n",
    "clean_dir = '../data_cleaned'\n",
    "\n",
    "print(\"Limpando dados\")\n",
    "for archive in os.listdir(path):\n",
    "    if archive[:3] == \"dim\" or archive[:3] == \"fat\":\n",
    "        # Corrigir a leitura de arquivos com múltiplas extensões\n",
    "        file_path = os.path.join(path, archive)\n",
    "        df = pd.read_excel(file_path)\n",
    "        \n",
    "        # Limpar os dados\n",
    "        df_cleaned = df.drop_duplicates().fillna(0).applymap(lambda x: x.strip() if isinstance(x, str) else x)\n",
    "        \n",
    "        # Criar o nome do arquivo CSV limpo\n",
    "        file_name, file_extension = os.path.splitext(archive)\n",
    "        clean_file_name = f\"clean_{file_name}.csv\"\n",
    "        clean_file_path = os.path.join(clean_dir, clean_file_name)\n",
    "        \n",
    "        # Salvar o DataFrame limpo como CSV\n",
    "        df_cleaned.to_csv(clean_file_path, index=False)\n",
    "        print(f\"Arquivo limpo salvo em: {clean_file_path}\")\n"
   ]
  }
 ],
 "metadata": {
  "kernelspec": {
   "display_name": "Python 3",
   "language": "python",
   "name": "python3"
  },
  "language_info": {
   "codemirror_mode": {
    "name": "ipython",
    "version": 3
   },
   "file_extension": ".py",
   "mimetype": "text/x-python",
   "name": "python",
   "nbconvert_exporter": "python",
   "pygments_lexer": "ipython3",
   "version": "3.12.4"
  }
 },
 "nbformat": 4,
 "nbformat_minor": 2
}
