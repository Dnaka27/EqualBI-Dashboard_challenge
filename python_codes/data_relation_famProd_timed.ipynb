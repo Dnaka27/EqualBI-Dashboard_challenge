{
 "cells": [
  {
   "cell_type": "markdown",
   "metadata": {},
   "source": [
    "#### Importar bibliotecas e funcionalidades"
   ]
  },
  {
   "cell_type": "code",
   "execution_count": 9,
   "metadata": {},
   "outputs": [],
   "source": [
    "import os\n",
    "import pandas as pd"
   ]
  },
  {
   "cell_type": "markdown",
   "metadata": {},
   "source": [
    "#### Identificar colunas\n"
   ]
  },
  {
   "cell_type": "code",
   "execution_count": 10,
   "metadata": {},
   "outputs": [
    {
     "name": "stdout",
     "output_type": "stream",
     "text": [
      "{'clean_dim_familia_produtos.csv': ['codigo_familia', 'descricaofamilia'], 'clean_dim_produtos.csv': ['codigo_produto', 'descricaoproduto', 'codigo_familia', 'custo_produto_unitario'], 'clean_dim_vendedor.csv': ['codigo_vendedor', 'nome_vendedor'], 'clean_fato_vendas.csv': ['codigo_contrato', 'data_venda', 'codigo_produto', 'filial_venda', 'quantidade', 'valor_monetario_total', 'valor_desconto', 'codigo_vendedor', 'codigo_cliente']}\n"
     ]
    },
    {
     "name": "stderr",
     "output_type": "stream",
     "text": [
      "C:\\Users\\diogo\\AppData\\Local\\Temp\\ipykernel_13260\\3546317070.py:9: DtypeWarning: Columns (0) have mixed types. Specify dtype option on import or set low_memory=False.\n",
      "  df = pd.read_csv(f\"{path}\\\\{archive}\")\n"
     ]
    }
   ],
   "source": [
    "current_dir = os.getcwd()\n",
    "parent_dir = os.path.abspath(os.path.join(current_dir, os.pardir))\n",
    "\n",
    "path = f\"{parent_dir}\\\\data_cleaned\"\n",
    "\n",
    "cols_by_archive = {}\n",
    "for archive in os.listdir(path):\n",
    "    if archive[:5] == \"clean\":\n",
    "        df = pd.read_csv(f\"{path}\\\\{archive}\")\n",
    "        cols_by_archive[archive] = df.columns.to_list()\n",
    "        \n",
    "print(cols_by_archive)"
   ]
  },
  {
   "cell_type": "markdown",
   "metadata": {},
   "source": [
    "#### Ler os arquivos(planilhas)\n"
   ]
  },
  {
   "cell_type": "code",
   "execution_count": 11,
   "metadata": {},
   "outputs": [
    {
     "name": "stderr",
     "output_type": "stream",
     "text": [
      "C:\\Users\\diogo\\AppData\\Local\\Temp\\ipykernel_13260\\2487375757.py:2: DtypeWarning: Columns (0) have mixed types. Specify dtype option on import or set low_memory=False.\n",
      "  df_fato_vendas = pd.read_csv(f\"{data_dir}\\\\clean_fato_vendas.csv\")\n"
     ]
    }
   ],
   "source": [
    "data_dir = path\n",
    "df_fato_vendas = pd.read_csv(f\"{data_dir}\\\\clean_fato_vendas.csv\")\n",
    "df_dim_vendedor = pd.read_csv(f\"{data_dir}\\\\clean_dim_vendedor.csv\")\n",
    "df_dim_produtos = pd.read_csv(f\"{data_dir}\\\\clean_dim_produtos.csv\")\n",
    "df_dim_familia_produtos = pd.read_csv(f\"{data_dir}\\\\clean_dim_familia_produtos.csv\")"
   ]
  },
  {
   "cell_type": "markdown",
   "metadata": {},
   "source": [
    "#### Criar o diretório de saída para as planilhas relacionadas"
   ]
  },
  {
   "cell_type": "code",
   "execution_count": 12,
   "metadata": {},
   "outputs": [],
   "source": [
    "os.makedirs('../data_related', exist_ok=True)\n"
   ]
  },
  {
   "cell_type": "markdown",
   "metadata": {},
   "source": [
    "#### Mesclar planilhas por colunas iguais\n"
   ]
  },
  {
   "cell_type": "code",
   "execution_count": 13,
   "metadata": {},
   "outputs": [],
   "source": [
    "output_path = f\"{parent_dir}\\\\data_related\"\n",
    "\n",
    "# Supor que os dataframes df_fato_vendas, df_dim_produtos e df_dim_familia_produtos já foram carregados\n",
    "\n",
    "# Selecionar as colunas necessárias antes dos merges\n",
    "df_dim_produtos_reduced = df_dim_produtos[[\"codigo_familia\", \"descricaoproduto\", \"codigo_produto\"]]\n",
    "df_dim_familia_produtos_reduced = df_dim_familia_produtos[[\"descricaofamilia\", \"codigo_familia\"]]\n",
    "\n",
    "# Realizar o primeiro merge\n",
    "df_timed_stats = pd.merge(\n",
    "    df_fato_vendas,\n",
    "    df_dim_produtos_reduced,\n",
    "    on=\"codigo_produto\",\n",
    "    how=\"inner\"\n",
    ")\n",
    "\n",
    "# Realizar o segundo merge\n",
    "df_timed_stats = pd.merge(\n",
    "    df_timed_stats,\n",
    "    df_dim_familia_produtos_reduced,\n",
    "    on=\"codigo_familia\",\n",
    "    how=\"inner\"\n",
    ")\n",
    "\n",
    "# Converter para datetime e extrair mês e ano em uma única linha\n",
    "df_timed_stats[\"data_venda\"] = pd.to_datetime(df_timed_stats[\"data_venda\"])\n",
    "df_timed_stats[\"mes\"] = df_timed_stats[\"data_venda\"].dt.month\n",
    "df_timed_stats[\"ano\"] = df_timed_stats[\"data_venda\"].dt.year\n",
    "\n",
    "# Agrupar e somar os valores monetários\n",
    "df_timed_stats_per_month = (\n",
    "    df_timed_stats\n",
    "    .groupby([\"codigo_familia\", \"mes\", \"ano\", \"descricaofamilia\"], as_index=False)[\"valor_monetario_total\"]\n",
    "    .sum()\n",
    ")\n",
    "\n",
    "# Salvar o resultado final como CSV\n",
    "output_dir = os.path.join(output_path, \"df_fam_prod_venda_timed.csv\")\n",
    "df_timed_stats_per_month.to_csv(output_dir, index=False)\n"
   ]
  }
 ],
 "metadata": {
  "kernelspec": {
   "display_name": "Python 3",
   "language": "python",
   "name": "python3"
  },
  "language_info": {
   "codemirror_mode": {
    "name": "ipython",
    "version": 3
   },
   "file_extension": ".py",
   "mimetype": "text/x-python",
   "name": "python",
   "nbconvert_exporter": "python",
   "pygments_lexer": "ipython3",
   "version": "3.12.4"
  }
 },
 "nbformat": 4,
 "nbformat_minor": 2
}
