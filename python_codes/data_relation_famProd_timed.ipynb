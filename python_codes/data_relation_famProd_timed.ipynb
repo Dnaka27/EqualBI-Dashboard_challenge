{
 "cells": [
  {
   "cell_type": "markdown",
   "metadata": {},
   "source": [
    "#### Importar bibliotecas e funcionalidades"
   ]
  },
  {
   "cell_type": "code",
   "execution_count": 2,
   "metadata": {},
   "outputs": [],
   "source": [
    "import os\n",
    "import pandas as pd"
   ]
  },
  {
   "cell_type": "markdown",
   "metadata": {},
   "source": [
    "#### Identificar colunas\n"
   ]
  },
  {
   "cell_type": "code",
   "execution_count": null,
   "metadata": {},
   "outputs": [],
   "source": [
    "current_dir = os.getcwd()\n",
    "parent_dir = os.path.abspath(os.path.join(current_dir, os.pardir))\n",
    "\n",
    "path = f\"{parent_dir}\\\\excel_data\"\n",
    "\n",
    "cols_by_archive = {}\n",
    "for archive in os.listdir(path):\n",
    "    if archive[:5] == \"clean\":\n",
    "        df = pd.read_excel(f\"{path}\\\\{archive}\")\n",
    "        cols_by_archive[archive] = df.columns.to_list()\n",
    "        \n",
    "print(cols_by_archive)"
   ]
  },
  {
   "cell_type": "markdown",
   "metadata": {},
   "source": [
    "#### Ler os arquivos(planilhas)\n"
   ]
  },
  {
   "cell_type": "code",
   "execution_count": 5,
   "metadata": {},
   "outputs": [],
   "source": [
    "data_dir = path\n",
    "df_fato_vendas = pd.read_excel(f\"{data_dir}\\\\clean_fato_vendas.xlsx\")\n",
    "df_dim_vendedor = pd.read_excel(f\"{data_dir}\\\\clean_dim_vendedor.xlsx\")\n",
    "df_dim_produtos = pd.read_excel(f\"{data_dir}\\\\clean_dim_produtos.xlsx\")\n",
    "df_dim_familia_produtos = pd.read_excel(f\"{data_dir}\\\\clean_dim_familia_produtos.xlsx\")"
   ]
  },
  {
   "cell_type": "markdown",
   "metadata": {},
   "source": [
    "#### Mesclar planilhas por colunas iguais\n"
   ]
  },
  {
   "cell_type": "code",
   "execution_count": null,
   "metadata": {},
   "outputs": [],
   "source": [
    "df_timed_stats = pd.merge(df_fato_vendas, df_dim_produtos[[\"codigo_familia\", \"descricaoproduto\", \"codigo_produto\"]], on=\"codigo_produto\", how=\"inner\")\n",
    "display(df_timed_stats.head())"
   ]
  },
  {
   "cell_type": "markdown",
   "metadata": {},
   "source": [
    "#### Mesclar planilhas por colunas iguais\n"
   ]
  },
  {
   "cell_type": "code",
   "execution_count": null,
   "metadata": {},
   "outputs": [],
   "source": [
    "df_timed_stats = pd.merge(df_timed_stats, df_dim_familia_produtos[[\"descricaofamilia\", \"codigo_familia\"]], on=\"codigo_familia\", how=\"inner\")\n",
    "display(df_timed_stats)"
   ]
  },
  {
   "cell_type": "markdown",
   "metadata": {},
   "source": [
    "#### Tranforamar tipos de dados\n"
   ]
  },
  {
   "cell_type": "code",
   "execution_count": null,
   "metadata": {},
   "outputs": [],
   "source": [
    "df_timed_stats[\"data_venda\"] = pd.to_datetime(df_timed_stats[\"data_venda\"]).reset_index(drop=True)\n",
    "display(df_timed_stats)"
   ]
  },
  {
   "cell_type": "markdown",
   "metadata": {},
   "source": [
    "#### Separar \"datetime\" por ano e mes\n"
   ]
  },
  {
   "cell_type": "code",
   "execution_count": null,
   "metadata": {},
   "outputs": [],
   "source": [
    "df_timed_stats[\"mes\"] = df_timed_stats[\"data_venda\"].dt.month\n",
    "df_timed_stats[\"ano\"] = df_timed_stats[\"data_venda\"].dt.year\n",
    "display(df_timed_stats)"
   ]
  },
  {
   "cell_type": "markdown",
   "metadata": {},
   "source": [
    "#### Agrupar e mesclar colunas\n"
   ]
  },
  {
   "cell_type": "code",
   "execution_count": null,
   "metadata": {},
   "outputs": [],
   "source": [
    "df_timed_stats_per_month = df_timed_stats.groupby([\"codigo_familia\", \"mes\", \"ano\"])[\"valor_monetario_total\"].sum().reset_index()\n",
    "df_timed_stats_per_month = pd.merge(df_timed_stats_per_month, df_dim_familia_produtos[[\"descricaofamilia\", \"codigo_familia\"]], on=\"codigo_familia\", how=\"inner\")\n",
    "display(df_timed_stats_per_month)"
   ]
  },
  {
   "cell_type": "markdown",
   "metadata": {},
   "source": [
    "#### Salvar como nova planilha\n"
   ]
  },
  {
   "cell_type": "code",
   "execution_count": 12,
   "metadata": {},
   "outputs": [],
   "source": [
    "df_timed_stats_per_month.to_excel(f\"{data_dir}\\\\df_fam_prod_venda_timed.xlsx\", index=False)"
   ]
  }
 ],
 "metadata": {
  "kernelspec": {
   "display_name": "Python 3",
   "language": "python",
   "name": "python3"
  },
  "language_info": {
   "codemirror_mode": {
    "name": "ipython",
    "version": 3
   },
   "file_extension": ".py",
   "mimetype": "text/x-python",
   "name": "python",
   "nbconvert_exporter": "python",
   "pygments_lexer": "ipython3",
   "version": "3.12.0"
  }
 },
 "nbformat": 4,
 "nbformat_minor": 2
}
