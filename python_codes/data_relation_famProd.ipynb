{
 "cells": [
  {
   "cell_type": "markdown",
   "metadata": {},
   "source": [
    "#### Importar bibliotecas e funcionalidades"
   ]
  },
  {
   "cell_type": "code",
   "execution_count": 5,
   "metadata": {},
   "outputs": [],
   "source": [
    "import os\n",
    "import pandas as pd"
   ]
  },
  {
   "cell_type": "markdown",
   "metadata": {},
   "source": [
    "#### Visualisar colunas das planilhas"
   ]
  },
  {
   "cell_type": "code",
   "execution_count": 6,
   "metadata": {},
   "outputs": [
    {
     "name": "stdout",
     "output_type": "stream",
     "text": [
      "{'clean_dim_familia_produtos.csv': ['codigo_familia', 'descricaofamilia'], 'clean_dim_produtos.csv': ['codigo_produto', 'descricaoproduto', 'codigo_familia', 'custo_produto_unitario'], 'clean_dim_vendedor.csv': ['codigo_vendedor', 'nome_vendedor'], 'clean_fato_vendas.csv': ['codigo_contrato', 'data_venda', 'codigo_produto', 'filial_venda', 'quantidade', 'valor_monetario_total', 'valor_desconto', 'codigo_vendedor', 'codigo_cliente']}\n"
     ]
    },
    {
     "name": "stderr",
     "output_type": "stream",
     "text": [
      "C:\\Users\\diogo\\AppData\\Local\\Temp\\ipykernel_3144\\3546317070.py:9: DtypeWarning: Columns (0) have mixed types. Specify dtype option on import or set low_memory=False.\n",
      "  df = pd.read_csv(f\"{path}\\\\{archive}\")\n"
     ]
    }
   ],
   "source": [
    "current_dir = os.getcwd()\n",
    "parent_dir = os.path.abspath(os.path.join(current_dir, os.pardir))\n",
    "\n",
    "path = f\"{parent_dir}\\\\data_cleaned\"\n",
    "\n",
    "cols_by_archive = {}\n",
    "for archive in os.listdir(path):\n",
    "    if archive[:5] == \"clean\":\n",
    "        df = pd.read_csv(f\"{path}\\\\{archive}\")\n",
    "        cols_by_archive[archive] = df.columns.to_list()\n",
    "        \n",
    "print(cols_by_archive)"
   ]
  },
  {
   "cell_type": "markdown",
   "metadata": {},
   "source": [
    "#### Ler os arquivos(planilhas)\n"
   ]
  },
  {
   "cell_type": "code",
   "execution_count": 7,
   "metadata": {},
   "outputs": [
    {
     "name": "stderr",
     "output_type": "stream",
     "text": [
      "C:\\Users\\diogo\\AppData\\Local\\Temp\\ipykernel_3144\\2487375757.py:2: DtypeWarning: Columns (0) have mixed types. Specify dtype option on import or set low_memory=False.\n",
      "  df_fato_vendas = pd.read_csv(f\"{data_dir}\\\\clean_fato_vendas.csv\")\n"
     ]
    }
   ],
   "source": [
    "data_dir = path\n",
    "df_fato_vendas = pd.read_csv(f\"{data_dir}\\\\clean_fato_vendas.csv\")\n",
    "df_dim_vendedor = pd.read_csv(f\"{data_dir}\\\\clean_dim_vendedor.csv\")\n",
    "df_dim_produtos = pd.read_csv(f\"{data_dir}\\\\clean_dim_produtos.csv\")\n",
    "df_dim_familia_produtos = pd.read_csv(f\"{data_dir}\\\\clean_dim_familia_produtos.csv\")"
   ]
  },
  {
   "cell_type": "markdown",
   "metadata": {},
   "source": [
    "#### Agrupar e mesclar planilhas por colunas iguais\n"
   ]
  },
  {
   "cell_type": "code",
   "execution_count": 8,
   "metadata": {},
   "outputs": [
    {
     "name": "stdout",
     "output_type": "stream",
     "text": [
      "Arquivo salvo em: g:\\Meu Drive\\2. Creating\\3. Projetos\\1. Data Science\\Python Datasets\\Python Case Equal\\data_related\\df_fam_prod_venda.csv\n"
     ]
    }
   ],
   "source": [
    "output_path = f\"{parent_dir}\\\\data_related\"\n",
    "\n",
    "# Primeiro, agrupar e somar os valores monetários e quantidade por produto\n",
    "df_sums = df_fato_vendas.groupby(\"codigo_produto\", as_index=False)[[\"valor_monetario_total\", \"quantidade\"]].sum()\n",
    "\n",
    "# Selecionar apenas as colunas necessárias para os merges\n",
    "df_dim_produtos_reduced = df_dim_produtos[[\"codigo_produto\", \"codigo_familia\", \"custo_produto_unitario\", \"descricaoproduto\"]]\n",
    "df_dim_familia_produtos_reduced = df_dim_familia_produtos[[\"codigo_familia\", \"descricaofamilia\"]]\n",
    "\n",
    "# Realizar o merge com df_dim_produtos\n",
    "df_sums = pd.merge(df_sums, df_dim_produtos_reduced, on=\"codigo_produto\", how=\"inner\")\n",
    "\n",
    "# Realizar o merge com df_dim_familia_produtos\n",
    "df_sums = pd.merge(df_sums, df_dim_familia_produtos_reduced, on=\"codigo_familia\", how=\"inner\")\n",
    "\n",
    "# Calcular o lucro por produto\n",
    "df_sums[\"lucro_produto\"] = df_sums[\"valor_monetario_total\"] - (df_sums[\"quantidade\"] * df_sums[\"custo_produto_unitario\"])\n",
    "\n",
    "# Salvar o resultado final como CSV\n",
    "output_dir = os.path.join(output_path, \"df_fam_prod_venda.csv\")\n",
    "df_sums.to_csv(output_dir, index=False)\n",
    "\n",
    "print(f\"Arquivo salvo em: {output_dir}\")\n"
   ]
  }
 ],
 "metadata": {
  "kernelspec": {
   "display_name": "Python 3",
   "language": "python",
   "name": "python3"
  },
  "language_info": {
   "codemirror_mode": {
    "name": "ipython",
    "version": 3
   },
   "file_extension": ".py",
   "mimetype": "text/x-python",
   "name": "python",
   "nbconvert_exporter": "python",
   "pygments_lexer": "ipython3",
   "version": "3.12.4"
  }
 },
 "nbformat": 4,
 "nbformat_minor": 2
}
