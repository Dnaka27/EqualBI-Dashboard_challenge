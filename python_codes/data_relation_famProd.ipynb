{
 "cells": [
  {
   "cell_type": "markdown",
   "metadata": {},
   "source": [
    "#### Importar bibliotecas e funcionalidades"
   ]
  },
  {
   "cell_type": "code",
   "execution_count": 2,
   "metadata": {},
   "outputs": [],
   "source": [
    "import os\n",
    "import pandas as pd"
   ]
  },
  {
   "cell_type": "markdown",
   "metadata": {},
   "source": [
    "#### Visualisar colunas das planilhas"
   ]
  },
  {
   "cell_type": "code",
   "execution_count": null,
   "metadata": {},
   "outputs": [],
   "source": [
    "current_dir = os.getcwd()\n",
    "parent_dir = os.path.abspath(os.path.join(current_dir, os.pardir))\n",
    "\n",
    "path = f\"{parent_dir}\\\\excel_data\"\n",
    "\n",
    "cols_by_archive = {}\n",
    "for archive in os.listdir(path):\n",
    "    if archive[:5] == \"clean\":\n",
    "        df = pd.read_excel(f\"{path}\\\\{archive}\")\n",
    "        cols_by_archive[archive] = df.columns.to_list()\n",
    "        \n",
    "print(cols_by_archive)"
   ]
  },
  {
   "cell_type": "markdown",
   "metadata": {},
   "source": [
    "#### Carregar planilhas"
   ]
  },
  {
   "cell_type": "code",
   "execution_count": 4,
   "metadata": {},
   "outputs": [],
   "source": [
    "data_dir = path\n",
    "df_fato_vendas = pd.read_excel(f\"{data_dir}\\\\clean_fato_vendas.xlsx\")\n",
    "df_dim_vendedor = pd.read_excel(f\"{data_dir}\\\\clean_dim_vendedor.xlsx\")\n",
    "df_dim_produtos = pd.read_excel(f\"{data_dir}\\\\clean_dim_produtos.xlsx\")\n",
    "df_dim_familia_produtos = pd.read_excel(f\"{data_dir}\\\\clean_dim_familia_produtos.xlsx\")"
   ]
  },
  {
   "cell_type": "markdown",
   "metadata": {},
   "source": [
    "#### Agrupar e mesclar planilhas por colunas iguais\n"
   ]
  },
  {
   "cell_type": "code",
   "execution_count": null,
   "metadata": {},
   "outputs": [],
   "source": [
    "df_sums = df_fato_vendas.groupby(\"codigo_produto\")[[\"valor_monetario_total\", \"quantidade\"]].sum().reset_index()\n",
    "df_sums = pd.merge(df_sums, df_dim_produtos, on='codigo_produto', how='inner')\n",
    "df_sums = pd.merge(df_sums, df_dim_familia_produtos[[\"descricaofamilia\", \"codigo_familia\"]], on='codigo_familia', how='inner')\n",
    "display(df_sums)"
   ]
  },
  {
   "cell_type": "markdown",
   "metadata": {},
   "source": [
    "#### Calcular o lucro de cada produto\n"
   ]
  },
  {
   "cell_type": "code",
   "execution_count": null,
   "metadata": {},
   "outputs": [],
   "source": [
    "df_sums[\"lucro_produto\"] = df_sums[\"valor_monetario_total\"] - (df_sums[\"quantidade\"] * df_sums[\"custo_produto_unitario\"])\n",
    "display(df_sums)"
   ]
  },
  {
   "cell_type": "markdown",
   "metadata": {},
   "source": [
    "#### Salvar nova planilha com dados tratados"
   ]
  },
  {
   "cell_type": "code",
   "execution_count": 10,
   "metadata": {},
   "outputs": [],
   "source": [
    "df_sums.to_excel(f\"{data_dir}\\\\df_fam_prod_venda.xlsx\", index=False)"
   ]
  }
 ],
 "metadata": {
  "kernelspec": {
   "display_name": "Python 3",
   "language": "python",
   "name": "python3"
  },
  "language_info": {
   "codemirror_mode": {
    "name": "ipython",
    "version": 3
   },
   "file_extension": ".py",
   "mimetype": "text/x-python",
   "name": "python",
   "nbconvert_exporter": "python",
   "pygments_lexer": "ipython3",
   "version": "3.12.0"
  }
 },
 "nbformat": 4,
 "nbformat_minor": 2
}
